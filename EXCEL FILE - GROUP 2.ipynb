{
 "cells": [
  {
   "cell_type": "markdown",
   "id": "e51f47f7",
   "metadata": {},
   "source": [
    "# EXCEL FILE "
   ]
  },
  {
   "cell_type": "code",
   "execution_count": 1,
   "id": "000ce1fc",
   "metadata": {},
   "outputs": [],
   "source": [
    "#cleaning the data -excel\n",
    "import pandas as pd\n",
    "g2=pd.read_csv('poro_perm_data.csv')\n"
   ]
  },
  {
   "cell_type": "code",
   "execution_count": 2,
   "id": "a8369945",
   "metadata": {
    "scrolled": true
   },
   "outputs": [
    {
     "data": {
      "text/html": [
       "<div>\n",
       "<style scoped>\n",
       "    .dataframe tbody tr th:only-of-type {\n",
       "        vertical-align: middle;\n",
       "    }\n",
       "\n",
       "    .dataframe tbody tr th {\n",
       "        vertical-align: top;\n",
       "    }\n",
       "\n",
       "    .dataframe thead th {\n",
       "        text-align: right;\n",
       "    }\n",
       "</style>\n",
       "<table border=\"1\" class=\"dataframe\">\n",
       "  <thead>\n",
       "    <tr style=\"text-align: right;\">\n",
       "      <th></th>\n",
       "      <th>Depth (ft)</th>\n",
       "      <th>Porosity (%)</th>\n",
       "      <th>Permeability (mD)</th>\n",
       "      <th>Facies</th>\n",
       "    </tr>\n",
       "  </thead>\n",
       "  <tbody>\n",
       "    <tr>\n",
       "      <th>0</th>\n",
       "      <td>2341.0</td>\n",
       "      <td>17.758524</td>\n",
       "      <td>71.140412</td>\n",
       "      <td>'crevasse splay'</td>\n",
       "    </tr>\n",
       "    <tr>\n",
       "      <th>1</th>\n",
       "      <td>3864.5</td>\n",
       "      <td>17.205288</td>\n",
       "      <td>82.554209</td>\n",
       "      <td>'crevasse splay'</td>\n",
       "    </tr>\n",
       "    <tr>\n",
       "      <th>2</th>\n",
       "      <td>903.5</td>\n",
       "      <td>13.324048</td>\n",
       "      <td>17.628365</td>\n",
       "      <td>'overbanks'</td>\n",
       "    </tr>\n",
       "    <tr>\n",
       "      <th>3</th>\n",
       "      <td>2040.5</td>\n",
       "      <td>35.584303</td>\n",
       "      <td>133.179677</td>\n",
       "      <td>'crevasse splay'</td>\n",
       "    </tr>\n",
       "    <tr>\n",
       "      <th>4</th>\n",
       "      <td>4069.0</td>\n",
       "      <td>22.947981</td>\n",
       "      <td>162.532854</td>\n",
       "      <td>'channel'</td>\n",
       "    </tr>\n",
       "  </tbody>\n",
       "</table>\n",
       "</div>"
      ],
      "text/plain": [
       "   Depth (ft)  Porosity (%)  Permeability (mD)            Facies\n",
       "0      2341.0     17.758524          71.140412  'crevasse splay'\n",
       "1      3864.5     17.205288          82.554209  'crevasse splay'\n",
       "2       903.5     13.324048          17.628365       'overbanks'\n",
       "3      2040.5     35.584303         133.179677  'crevasse splay'\n",
       "4      4069.0     22.947981         162.532854         'channel'"
      ]
     },
     "execution_count": 2,
     "metadata": {},
     "output_type": "execute_result"
    }
   ],
   "source": [
    "g2.head() "
   ]
  },
  {
   "cell_type": "code",
   "execution_count": 3,
   "id": "50ffc4c2",
   "metadata": {},
   "outputs": [
    {
     "name": "stdout",
     "output_type": "stream",
     "text": [
      "Requirement already satisfied: missingno in /opt/anaconda3/lib/python3.9/site-packages (0.5.1)\n",
      "Requirement already satisfied: scipy in /opt/anaconda3/lib/python3.9/site-packages (from missingno) (1.9.1)\n",
      "Requirement already satisfied: seaborn in /opt/anaconda3/lib/python3.9/site-packages (from missingno) (0.12.0)\n",
      "Requirement already satisfied: matplotlib in /opt/anaconda3/lib/python3.9/site-packages (from missingno) (3.5.3)\n",
      "Requirement already satisfied: numpy in /opt/anaconda3/lib/python3.9/site-packages (from missingno) (1.23.2)\n",
      "Requirement already satisfied: pillow>=6.2.0 in /opt/anaconda3/lib/python3.9/site-packages (from matplotlib->missingno) (9.2.0)\n",
      "Requirement already satisfied: fonttools>=4.22.0 in /opt/anaconda3/lib/python3.9/site-packages (from matplotlib->missingno) (4.36.0)\n",
      "Requirement already satisfied: python-dateutil>=2.7 in /opt/anaconda3/lib/python3.9/site-packages (from matplotlib->missingno) (2.8.2)\n",
      "Requirement already satisfied: kiwisolver>=1.0.1 in /opt/anaconda3/lib/python3.9/site-packages (from matplotlib->missingno) (1.4.4)\n",
      "Requirement already satisfied: packaging>=20.0 in /opt/anaconda3/lib/python3.9/site-packages (from matplotlib->missingno) (21.3)\n",
      "Requirement already satisfied: pyparsing>=2.2.1 in /opt/anaconda3/lib/python3.9/site-packages (from matplotlib->missingno) (3.0.4)\n",
      "Requirement already satisfied: cycler>=0.10 in /opt/anaconda3/lib/python3.9/site-packages (from matplotlib->missingno) (0.11.0)\n",
      "Requirement already satisfied: pandas>=0.25 in /opt/anaconda3/lib/python3.9/site-packages (from seaborn->missingno) (1.4.3)\n",
      "Requirement already satisfied: pytz>=2020.1 in /opt/anaconda3/lib/python3.9/site-packages (from pandas>=0.25->seaborn->missingno) (2022.1)\n",
      "Requirement already satisfied: six>=1.5 in /opt/anaconda3/lib/python3.9/site-packages (from python-dateutil>=2.7->matplotlib->missingno) (1.16.0)\n",
      "Note: you may need to restart the kernel to use updated packages.\n"
     ]
    }
   ],
   "source": [
    "pip install missingno"
   ]
  },
  {
   "cell_type": "code",
   "execution_count": 4,
   "id": "c8f05642",
   "metadata": {},
   "outputs": [
    {
     "data": {
      "text/plain": [
       "Depth (ft)           0\n",
       "Porosity (%)         0\n",
       "Permeability (mD)    0\n",
       "Facies               2\n",
       "dtype: int64"
      ]
     },
     "execution_count": 4,
     "metadata": {},
     "output_type": "execute_result"
    }
   ],
   "source": [
    "import missingno as msno\n",
    "\n",
    "g2.isnull().sum()"
   ]
  },
  {
   "cell_type": "code",
   "execution_count": 5,
   "id": "d2b450fc",
   "metadata": {},
   "outputs": [
    {
     "data": {
      "text/plain": [
       "<AxesSubplot:>"
      ]
     },
     "execution_count": 5,
     "metadata": {},
     "output_type": "execute_result"
    },
    {
     "data": {
      "image/png": "[encoded data removed]",
      "text/plain": [
       "<Figure size 1800x720 with 2 Axes>"
      ]
     },
     "metadata": {
      "needs_background": "light"
     },
     "output_type": "display_data"
    }
   ],
   "source": [
    "import missingno as msno\n",
    "msno.matrix(g2)"
   ]
  },
  {
   "cell_type": "code",
   "execution_count": 6,
   "id": "dffca560",
   "metadata": {},
   "outputs": [],
   "source": [
    "g2.dropna(axis = 0, inplace = True )"
   ]
  },
  {
   "cell_type": "code",
   "execution_count": 7,
   "id": "e3dc5b88",
   "metadata": {},
   "outputs": [],
   "source": [
    "#g2['Facies'] = pd.to_numeric(g2['Facies'],errors = 'coerce')"
   ]
  },
  {
   "cell_type": "code",
   "execution_count": 8,
   "id": "26f9ec0b",
   "metadata": {},
   "outputs": [
    {
     "data": {
      "text/html": [
       "<div>\n",
       "<style scoped>\n",
       "    .dataframe tbody tr th:only-of-type {\n",
       "        vertical-align: middle;\n",
       "    }\n",
       "\n",
       "    .dataframe tbody tr th {\n",
       "        vertical-align: top;\n",
       "    }\n",
       "\n",
       "    .dataframe thead th {\n",
       "        text-align: right;\n",
       "    }\n",
       "</style>\n",
       "<table border=\"1\" class=\"dataframe\">\n",
       "  <thead>\n",
       "    <tr style=\"text-align: right;\">\n",
       "      <th></th>\n",
       "      <th>Depth (ft)</th>\n",
       "      <th>Porosity (%)</th>\n",
       "      <th>Permeability (mD)</th>\n",
       "      <th>Facies</th>\n",
       "    </tr>\n",
       "  </thead>\n",
       "  <tbody>\n",
       "    <tr>\n",
       "      <th>0</th>\n",
       "      <td>2341.0</td>\n",
       "      <td>17.758524</td>\n",
       "      <td>71.140412</td>\n",
       "      <td>crevasse splay</td>\n",
       "    </tr>\n",
       "    <tr>\n",
       "      <th>1</th>\n",
       "      <td>3864.5</td>\n",
       "      <td>17.205288</td>\n",
       "      <td>82.554209</td>\n",
       "      <td>crevasse splay</td>\n",
       "    </tr>\n",
       "    <tr>\n",
       "      <th>2</th>\n",
       "      <td>903.5</td>\n",
       "      <td>13.324048</td>\n",
       "      <td>17.628365</td>\n",
       "      <td>overbanks</td>\n",
       "    </tr>\n",
       "    <tr>\n",
       "      <th>3</th>\n",
       "      <td>2040.5</td>\n",
       "      <td>35.584303</td>\n",
       "      <td>133.179677</td>\n",
       "      <td>crevasse splay</td>\n",
       "    </tr>\n",
       "    <tr>\n",
       "      <th>4</th>\n",
       "      <td>4069.0</td>\n",
       "      <td>22.947981</td>\n",
       "      <td>162.532854</td>\n",
       "      <td>channel</td>\n",
       "    </tr>\n",
       "  </tbody>\n",
       "</table>\n",
       "</div>"
      ],
      "text/plain": [
       "   Depth (ft)  Porosity (%)  Permeability (mD)          Facies\n",
       "0      2341.0     17.758524          71.140412  crevasse splay\n",
       "1      3864.5     17.205288          82.554209  crevasse splay\n",
       "2       903.5     13.324048          17.628365       overbanks\n",
       "3      2040.5     35.584303         133.179677  crevasse splay\n",
       "4      4069.0     22.947981         162.532854         channel"
      ]
     },
     "execution_count": 8,
     "metadata": {},
     "output_type": "execute_result"
    }
   ],
   "source": [
    "g2['Facies'] = g2['Facies'].map(lambda x: x.rstrip(\"'\"))\n",
    "g2['Facies'] = g2['Facies'].map(lambda x: x.lstrip(\"'\"))\n",
    "g2.head()"
   ]
  },
  {
   "cell_type": "code",
   "execution_count": 9,
   "id": "58b2b356",
   "metadata": {},
   "outputs": [
    {
     "data": {
      "text/html": [
       "<div>\n",
       "<style scoped>\n",
       "    .dataframe tbody tr th:only-of-type {\n",
       "        vertical-align: middle;\n",
       "    }\n",
       "\n",
       "    .dataframe tbody tr th {\n",
       "        vertical-align: top;\n",
       "    }\n",
       "\n",
       "    .dataframe thead th {\n",
       "        text-align: right;\n",
       "    }\n",
       "</style>\n",
       "<table border=\"1\" class=\"dataframe\">\n",
       "  <thead>\n",
       "    <tr style=\"text-align: right;\">\n",
       "      <th></th>\n",
       "      <th>Depth (ft)</th>\n",
       "      <th>Porosity (%)</th>\n",
       "      <th>Permeability (mD)</th>\n",
       "      <th>Facies</th>\n",
       "    </tr>\n",
       "  </thead>\n",
       "  <tbody>\n",
       "    <tr>\n",
       "      <th>0</th>\n",
       "      <td>2341.0</td>\n",
       "      <td>17.758524</td>\n",
       "      <td>71.140412</td>\n",
       "      <td>crevasse splay</td>\n",
       "    </tr>\n",
       "    <tr>\n",
       "      <th>1</th>\n",
       "      <td>3864.5</td>\n",
       "      <td>17.205288</td>\n",
       "      <td>82.554209</td>\n",
       "      <td>crevasse splay</td>\n",
       "    </tr>\n",
       "    <tr>\n",
       "      <th>2</th>\n",
       "      <td>903.5</td>\n",
       "      <td>13.324048</td>\n",
       "      <td>17.628365</td>\n",
       "      <td>overbanks</td>\n",
       "    </tr>\n",
       "    <tr>\n",
       "      <th>3</th>\n",
       "      <td>2040.5</td>\n",
       "      <td>35.584303</td>\n",
       "      <td>133.179677</td>\n",
       "      <td>crevasse splay</td>\n",
       "    </tr>\n",
       "    <tr>\n",
       "      <th>4</th>\n",
       "      <td>4069.0</td>\n",
       "      <td>22.947981</td>\n",
       "      <td>162.532854</td>\n",
       "      <td>channel</td>\n",
       "    </tr>\n",
       "  </tbody>\n",
       "</table>\n",
       "</div>"
      ],
      "text/plain": [
       "   Depth (ft)  Porosity (%)  Permeability (mD)          Facies\n",
       "0      2341.0     17.758524          71.140412  crevasse splay\n",
       "1      3864.5     17.205288          82.554209  crevasse splay\n",
       "2       903.5     13.324048          17.628365       overbanks\n",
       "3      2040.5     35.584303         133.179677  crevasse splay\n",
       "4      4069.0     22.947981         162.532854         channel"
      ]
     },
     "execution_count": 9,
     "metadata": {},
     "output_type": "execute_result"
    }
   ],
   "source": [
    "g2.head()"
   ]
  },
  {
   "cell_type": "code",
   "execution_count": 10,
   "id": "7726b0dd",
   "metadata": {},
   "outputs": [],
   "source": [
    "g2.columns = g2.columns.str.replace(\" \",\"\")"
   ]
  },
  {
   "cell_type": "code",
   "execution_count": 11,
   "id": "50311d68",
   "metadata": {},
   "outputs": [
    {
     "data": {
      "text/html": [
       "<div>\n",
       "<style scoped>\n",
       "    .dataframe tbody tr th:only-of-type {\n",
       "        vertical-align: middle;\n",
       "    }\n",
       "\n",
       "    .dataframe tbody tr th {\n",
       "        vertical-align: top;\n",
       "    }\n",
       "\n",
       "    .dataframe thead th {\n",
       "        text-align: right;\n",
       "    }\n",
       "</style>\n",
       "<table border=\"1\" class=\"dataframe\">\n",
       "  <thead>\n",
       "    <tr style=\"text-align: right;\">\n",
       "      <th></th>\n",
       "      <th>Depth(ft)</th>\n",
       "      <th>Porosity(%)</th>\n",
       "      <th>Permeability(mD)</th>\n",
       "      <th>Facies</th>\n",
       "    </tr>\n",
       "  </thead>\n",
       "  <tbody>\n",
       "    <tr>\n",
       "      <th>0</th>\n",
       "      <td>2341.0</td>\n",
       "      <td>17.758524</td>\n",
       "      <td>71.140412</td>\n",
       "      <td>crevasse splay</td>\n",
       "    </tr>\n",
       "    <tr>\n",
       "      <th>1</th>\n",
       "      <td>3864.5</td>\n",
       "      <td>17.205288</td>\n",
       "      <td>82.554209</td>\n",
       "      <td>crevasse splay</td>\n",
       "    </tr>\n",
       "    <tr>\n",
       "      <th>2</th>\n",
       "      <td>903.5</td>\n",
       "      <td>13.324048</td>\n",
       "      <td>17.628365</td>\n",
       "      <td>overbanks</td>\n",
       "    </tr>\n",
       "    <tr>\n",
       "      <th>3</th>\n",
       "      <td>2040.5</td>\n",
       "      <td>35.584303</td>\n",
       "      <td>133.179677</td>\n",
       "      <td>crevasse splay</td>\n",
       "    </tr>\n",
       "    <tr>\n",
       "      <th>4</th>\n",
       "      <td>4069.0</td>\n",
       "      <td>22.947981</td>\n",
       "      <td>162.532854</td>\n",
       "      <td>channel</td>\n",
       "    </tr>\n",
       "  </tbody>\n",
       "</table>\n",
       "</div>"
      ],
      "text/plain": [
       "   Depth(ft)  Porosity(%)  Permeability(mD)          Facies\n",
       "0     2341.0    17.758524         71.140412  crevasse splay\n",
       "1     3864.5    17.205288         82.554209  crevasse splay\n",
       "2      903.5    13.324048         17.628365       overbanks\n",
       "3     2040.5    35.584303        133.179677  crevasse splay\n",
       "4     4069.0    22.947981        162.532854         channel"
      ]
     },
     "execution_count": 11,
     "metadata": {},
     "output_type": "execute_result"
    }
   ],
   "source": [
    "g2.head()"
   ]
  },
  {
   "cell_type": "code",
   "execution_count": 12,
   "id": "eb3b0572",
   "metadata": {},
   "outputs": [],
   "source": [
    "# Dropping negative porosities \n",
    "ndrop = g2[(g2['Porosity(%)' ] <= 0)].index\n",
    "g2.drop(ndrop, inplace=True)"
   ]
  },
  {
   "cell_type": "code",
   "execution_count": 13,
   "id": "13daa861",
   "metadata": {},
   "outputs": [],
   "source": [
    "nndrop = g2[(g2['Porosity(%)' ] > 100)].index\n",
    "g2.drop(nndrop, inplace=True)"
   ]
  },
  {
   "cell_type": "code",
   "execution_count": 14,
   "id": "a913ef17",
   "metadata": {},
   "outputs": [
    {
     "data": {
      "text/html": [
       "<div>\n",
       "<style scoped>\n",
       "    .dataframe tbody tr th:only-of-type {\n",
       "        vertical-align: middle;\n",
       "    }\n",
       "\n",
       "    .dataframe tbody tr th {\n",
       "        vertical-align: top;\n",
       "    }\n",
       "\n",
       "    .dataframe thead th {\n",
       "        text-align: right;\n",
       "    }\n",
       "</style>\n",
       "<table border=\"1\" class=\"dataframe\">\n",
       "  <thead>\n",
       "    <tr style=\"text-align: right;\">\n",
       "      <th></th>\n",
       "      <th>Depth(ft)</th>\n",
       "      <th>Porosity(%)</th>\n",
       "      <th>Permeability(mD)</th>\n",
       "      <th>Facies</th>\n",
       "    </tr>\n",
       "  </thead>\n",
       "  <tbody>\n",
       "    <tr>\n",
       "      <th>0</th>\n",
       "      <td>2341.0</td>\n",
       "      <td>17.758524</td>\n",
       "      <td>71.140412</td>\n",
       "      <td>crevasse splay</td>\n",
       "    </tr>\n",
       "    <tr>\n",
       "      <th>1</th>\n",
       "      <td>3864.5</td>\n",
       "      <td>17.205288</td>\n",
       "      <td>82.554209</td>\n",
       "      <td>crevasse splay</td>\n",
       "    </tr>\n",
       "    <tr>\n",
       "      <th>2</th>\n",
       "      <td>903.5</td>\n",
       "      <td>13.324048</td>\n",
       "      <td>17.628365</td>\n",
       "      <td>overbanks</td>\n",
       "    </tr>\n",
       "    <tr>\n",
       "      <th>3</th>\n",
       "      <td>2040.5</td>\n",
       "      <td>35.584303</td>\n",
       "      <td>133.179677</td>\n",
       "      <td>crevasse splay</td>\n",
       "    </tr>\n",
       "    <tr>\n",
       "      <th>4</th>\n",
       "      <td>4069.0</td>\n",
       "      <td>22.947981</td>\n",
       "      <td>162.532854</td>\n",
       "      <td>channel</td>\n",
       "    </tr>\n",
       "  </tbody>\n",
       "</table>\n",
       "</div>"
      ],
      "text/plain": [
       "   Depth(ft)  Porosity(%)  Permeability(mD)          Facies\n",
       "0     2341.0    17.758524         71.140412  crevasse splay\n",
       "1     3864.5    17.205288         82.554209  crevasse splay\n",
       "2      903.5    13.324048         17.628365       overbanks\n",
       "3     2040.5    35.584303        133.179677  crevasse splay\n",
       "4     4069.0    22.947981        162.532854         channel"
      ]
     },
     "execution_count": 14,
     "metadata": {},
     "output_type": "execute_result"
    }
   ],
   "source": [
    "g2.head()"
   ]
  },
  {
   "cell_type": "code",
   "execution_count": 15,
   "id": "37819a33",
   "metadata": {},
   "outputs": [],
   "source": [
    "# Dropping negative permeability \n",
    "n2drop = g2[(g2['Permeability(mD)' ] <= 0)].index\n",
    "g2.drop(n2drop, inplace=True)"
   ]
  },
  {
   "cell_type": "code",
   "execution_count": 16,
   "id": "ade9215b",
   "metadata": {},
   "outputs": [
    {
     "data": {
      "text/html": [
       "<div>\n",
       "<style scoped>\n",
       "    .dataframe tbody tr th:only-of-type {\n",
       "        vertical-align: middle;\n",
       "    }\n",
       "\n",
       "    .dataframe tbody tr th {\n",
       "        vertical-align: top;\n",
       "    }\n",
       "\n",
       "    .dataframe thead th {\n",
       "        text-align: right;\n",
       "    }\n",
       "</style>\n",
       "<table border=\"1\" class=\"dataframe\">\n",
       "  <thead>\n",
       "    <tr style=\"text-align: right;\">\n",
       "      <th></th>\n",
       "      <th>Depth(ft)</th>\n",
       "      <th>Porosity(%)</th>\n",
       "      <th>Permeability(mD)</th>\n",
       "      <th>Facies</th>\n",
       "    </tr>\n",
       "  </thead>\n",
       "  <tbody>\n",
       "    <tr>\n",
       "      <th>0</th>\n",
       "      <td>2341.0</td>\n",
       "      <td>17.758524</td>\n",
       "      <td>71.140412</td>\n",
       "      <td>crevasse splay</td>\n",
       "    </tr>\n",
       "    <tr>\n",
       "      <th>1</th>\n",
       "      <td>3864.5</td>\n",
       "      <td>17.205288</td>\n",
       "      <td>82.554209</td>\n",
       "      <td>crevasse splay</td>\n",
       "    </tr>\n",
       "    <tr>\n",
       "      <th>2</th>\n",
       "      <td>903.5</td>\n",
       "      <td>13.324048</td>\n",
       "      <td>17.628365</td>\n",
       "      <td>overbanks</td>\n",
       "    </tr>\n",
       "    <tr>\n",
       "      <th>3</th>\n",
       "      <td>2040.5</td>\n",
       "      <td>35.584303</td>\n",
       "      <td>133.179677</td>\n",
       "      <td>crevasse splay</td>\n",
       "    </tr>\n",
       "    <tr>\n",
       "      <th>4</th>\n",
       "      <td>4069.0</td>\n",
       "      <td>22.947981</td>\n",
       "      <td>162.532854</td>\n",
       "      <td>channel</td>\n",
       "    </tr>\n",
       "  </tbody>\n",
       "</table>\n",
       "</div>"
      ],
      "text/plain": [
       "   Depth(ft)  Porosity(%)  Permeability(mD)          Facies\n",
       "0     2341.0    17.758524         71.140412  crevasse splay\n",
       "1     3864.5    17.205288         82.554209  crevasse splay\n",
       "2      903.5    13.324048         17.628365       overbanks\n",
       "3     2040.5    35.584303        133.179677  crevasse splay\n",
       "4     4069.0    22.947981        162.532854         channel"
      ]
     },
     "execution_count": 16,
     "metadata": {},
     "output_type": "execute_result"
    }
   ],
   "source": [
    "g2.head()"
   ]
  },
  {
   "cell_type": "code",
   "execution_count": 17,
   "id": "c1ea9711",
   "metadata": {},
   "outputs": [],
   "source": [
    "# Dropping negative depth \n",
    "n3drop = g2[(g2['Depth(ft)' ] <= 0)].index\n",
    "g2.drop(n3drop, inplace=True)"
   ]
  },
  {
   "cell_type": "code",
   "execution_count": 18,
   "id": "33d7c97d",
   "metadata": {},
   "outputs": [
    {
     "data": {
      "text/html": [
       "<div>\n",
       "<style scoped>\n",
       "    .dataframe tbody tr th:only-of-type {\n",
       "        vertical-align: middle;\n",
       "    }\n",
       "\n",
       "    .dataframe tbody tr th {\n",
       "        vertical-align: top;\n",
       "    }\n",
       "\n",
       "    .dataframe thead th {\n",
       "        text-align: right;\n",
       "    }\n",
       "</style>\n",
       "<table border=\"1\" class=\"dataframe\">\n",
       "  <thead>\n",
       "    <tr style=\"text-align: right;\">\n",
       "      <th></th>\n",
       "      <th>Depth(ft)</th>\n",
       "      <th>Porosity(%)</th>\n",
       "      <th>Permeability(mD)</th>\n",
       "      <th>Facies</th>\n",
       "    </tr>\n",
       "  </thead>\n",
       "  <tbody>\n",
       "    <tr>\n",
       "      <th>0</th>\n",
       "      <td>2341.0</td>\n",
       "      <td>17.758524</td>\n",
       "      <td>71.140412</td>\n",
       "      <td>crevasse splay</td>\n",
       "    </tr>\n",
       "    <tr>\n",
       "      <th>1</th>\n",
       "      <td>3864.5</td>\n",
       "      <td>17.205288</td>\n",
       "      <td>82.554209</td>\n",
       "      <td>crevasse splay</td>\n",
       "    </tr>\n",
       "    <tr>\n",
       "      <th>2</th>\n",
       "      <td>903.5</td>\n",
       "      <td>13.324048</td>\n",
       "      <td>17.628365</td>\n",
       "      <td>overbanks</td>\n",
       "    </tr>\n",
       "    <tr>\n",
       "      <th>3</th>\n",
       "      <td>2040.5</td>\n",
       "      <td>35.584303</td>\n",
       "      <td>133.179677</td>\n",
       "      <td>crevasse splay</td>\n",
       "    </tr>\n",
       "    <tr>\n",
       "      <th>4</th>\n",
       "      <td>4069.0</td>\n",
       "      <td>22.947981</td>\n",
       "      <td>162.532854</td>\n",
       "      <td>channel</td>\n",
       "    </tr>\n",
       "  </tbody>\n",
       "</table>\n",
       "</div>"
      ],
      "text/plain": [
       "   Depth(ft)  Porosity(%)  Permeability(mD)          Facies\n",
       "0     2341.0    17.758524         71.140412  crevasse splay\n",
       "1     3864.5    17.205288         82.554209  crevasse splay\n",
       "2      903.5    13.324048         17.628365       overbanks\n",
       "3     2040.5    35.584303        133.179677  crevasse splay\n",
       "4     4069.0    22.947981        162.532854         channel"
      ]
     },
     "execution_count": 18,
     "metadata": {},
     "output_type": "execute_result"
    }
   ],
   "source": [
    "g2.head()"
   ]
  },
  {
   "cell_type": "code",
   "execution_count": 19,
   "id": "091e7f12",
   "metadata": {},
   "outputs": [
    {
     "data": {
      "text/html": [
       "<div>\n",
       "<style scoped>\n",
       "    .dataframe tbody tr th:only-of-type {\n",
       "        vertical-align: middle;\n",
       "    }\n",
       "\n",
       "    .dataframe tbody tr th {\n",
       "        vertical-align: top;\n",
       "    }\n",
       "\n",
       "    .dataframe thead th {\n",
       "        text-align: right;\n",
       "    }\n",
       "</style>\n",
       "<table border=\"1\" class=\"dataframe\">\n",
       "  <thead>\n",
       "    <tr style=\"text-align: right;\">\n",
       "      <th></th>\n",
       "      <th>Depth(ft)</th>\n",
       "      <th>Porosity(%)</th>\n",
       "      <th>Permeability(mD)</th>\n",
       "      <th>Facies</th>\n",
       "      <th>Depth(m)</th>\n",
       "    </tr>\n",
       "  </thead>\n",
       "  <tbody>\n",
       "    <tr>\n",
       "      <th>0</th>\n",
       "      <td>2341.0</td>\n",
       "      <td>17.758524</td>\n",
       "      <td>71.140412</td>\n",
       "      <td>crevasse splay</td>\n",
       "      <td>713.5368</td>\n",
       "    </tr>\n",
       "    <tr>\n",
       "      <th>1</th>\n",
       "      <td>3864.5</td>\n",
       "      <td>17.205288</td>\n",
       "      <td>82.554209</td>\n",
       "      <td>crevasse splay</td>\n",
       "      <td>1177.8996</td>\n",
       "    </tr>\n",
       "    <tr>\n",
       "      <th>2</th>\n",
       "      <td>903.5</td>\n",
       "      <td>13.324048</td>\n",
       "      <td>17.628365</td>\n",
       "      <td>overbanks</td>\n",
       "      <td>275.3868</td>\n",
       "    </tr>\n",
       "    <tr>\n",
       "      <th>3</th>\n",
       "      <td>2040.5</td>\n",
       "      <td>35.584303</td>\n",
       "      <td>133.179677</td>\n",
       "      <td>crevasse splay</td>\n",
       "      <td>621.9444</td>\n",
       "    </tr>\n",
       "    <tr>\n",
       "      <th>4</th>\n",
       "      <td>4069.0</td>\n",
       "      <td>22.947981</td>\n",
       "      <td>162.532854</td>\n",
       "      <td>channel</td>\n",
       "      <td>1240.2312</td>\n",
       "    </tr>\n",
       "  </tbody>\n",
       "</table>\n",
       "</div>"
      ],
      "text/plain": [
       "   Depth(ft)  Porosity(%)  Permeability(mD)          Facies   Depth(m)\n",
       "0     2341.0    17.758524         71.140412  crevasse splay   713.5368\n",
       "1     3864.5    17.205288         82.554209  crevasse splay  1177.8996\n",
       "2      903.5    13.324048         17.628365       overbanks   275.3868\n",
       "3     2040.5    35.584303        133.179677  crevasse splay   621.9444\n",
       "4     4069.0    22.947981        162.532854         channel  1240.2312"
      ]
     },
     "execution_count": 19,
     "metadata": {},
     "output_type": "execute_result"
    }
   ],
   "source": [
    "#to convert ft to m\n",
    "g2['Depth(m)']= g2['Depth(ft)']*0.3048\n",
    "g2.head()"
   ]
  },
  {
   "cell_type": "code",
   "execution_count": 20,
   "id": "bfe36f40",
   "metadata": {},
   "outputs": [
    {
     "data": {
      "text/html": [
       "<div>\n",
       "<style scoped>\n",
       "    .dataframe tbody tr th:only-of-type {\n",
       "        vertical-align: middle;\n",
       "    }\n",
       "\n",
       "    .dataframe tbody tr th {\n",
       "        vertical-align: top;\n",
       "    }\n",
       "\n",
       "    .dataframe thead th {\n",
       "        text-align: right;\n",
       "    }\n",
       "</style>\n",
       "<table border=\"1\" class=\"dataframe\">\n",
       "  <thead>\n",
       "    <tr style=\"text-align: right;\">\n",
       "      <th></th>\n",
       "      <th>Depth(ft)</th>\n",
       "      <th>Porosity(%)</th>\n",
       "      <th>Permeability(mD)</th>\n",
       "      <th>Facies</th>\n",
       "      <th>Depth(m)</th>\n",
       "      <th>Porosity</th>\n",
       "    </tr>\n",
       "  </thead>\n",
       "  <tbody>\n",
       "    <tr>\n",
       "      <th>0</th>\n",
       "      <td>2341.0</td>\n",
       "      <td>17.758524</td>\n",
       "      <td>71.140412</td>\n",
       "      <td>crevasse splay</td>\n",
       "      <td>713.5368</td>\n",
       "      <td>0.177585</td>\n",
       "    </tr>\n",
       "    <tr>\n",
       "      <th>1</th>\n",
       "      <td>3864.5</td>\n",
       "      <td>17.205288</td>\n",
       "      <td>82.554209</td>\n",
       "      <td>crevasse splay</td>\n",
       "      <td>1177.8996</td>\n",
       "      <td>0.172053</td>\n",
       "    </tr>\n",
       "    <tr>\n",
       "      <th>2</th>\n",
       "      <td>903.5</td>\n",
       "      <td>13.324048</td>\n",
       "      <td>17.628365</td>\n",
       "      <td>overbanks</td>\n",
       "      <td>275.3868</td>\n",
       "      <td>0.133240</td>\n",
       "    </tr>\n",
       "    <tr>\n",
       "      <th>3</th>\n",
       "      <td>2040.5</td>\n",
       "      <td>35.584303</td>\n",
       "      <td>133.179677</td>\n",
       "      <td>crevasse splay</td>\n",
       "      <td>621.9444</td>\n",
       "      <td>0.355843</td>\n",
       "    </tr>\n",
       "    <tr>\n",
       "      <th>4</th>\n",
       "      <td>4069.0</td>\n",
       "      <td>22.947981</td>\n",
       "      <td>162.532854</td>\n",
       "      <td>channel</td>\n",
       "      <td>1240.2312</td>\n",
       "      <td>0.229480</td>\n",
       "    </tr>\n",
       "  </tbody>\n",
       "</table>\n",
       "</div>"
      ],
      "text/plain": [
       "   Depth(ft)  Porosity(%)  Permeability(mD)          Facies   Depth(m)  \\\n",
       "0     2341.0    17.758524         71.140412  crevasse splay   713.5368   \n",
       "1     3864.5    17.205288         82.554209  crevasse splay  1177.8996   \n",
       "2      903.5    13.324048         17.628365       overbanks   275.3868   \n",
       "3     2040.5    35.584303        133.179677  crevasse splay   621.9444   \n",
       "4     4069.0    22.947981        162.532854         channel  1240.2312   \n",
       "\n",
       "   Porosity  \n",
       "0  0.177585  \n",
       "1  0.172053  \n",
       "2  0.133240  \n",
       "3  0.355843  \n",
       "4  0.229480  "
      ]
     },
     "execution_count": 20,
     "metadata": {},
     "output_type": "execute_result"
    }
   ],
   "source": [
    "g2['Porosity']= g2['Porosity(%)']/(100)\n",
    "g2.head()"
   ]
  },
  {
   "cell_type": "code",
   "execution_count": 21,
   "id": "6daf0286",
   "metadata": {},
   "outputs": [
    {
     "data": {
      "text/plain": [
       "<AxesSubplot:>"
      ]
     },
     "execution_count": 21,
     "metadata": {},
     "output_type": "execute_result"
    },
    {
     "data": {
      "image/png": "[encoded data removed]",
      "text/plain": [
       "<Figure size 1800x720 with 2 Axes>"
      ]
     },
     "metadata": {
      "needs_background": "light"
     },
     "output_type": "display_data"
    }
   ],
   "source": [
    "import missingno as msno\n",
    "msno.matrix(g2)"
   ]
  },
  {
   "cell_type": "code",
   "execution_count": 43,
   "id": "2289621c",
   "metadata": {},
   "outputs": [
    {
     "data": {
      "text/plain": [
       "Depth(ft)           0\n",
       "Porosity(%)         0\n",
       "Permeability(mD)    0\n",
       "Depth(m)            0\n",
       "Porosity            0\n",
       "Permeability        0\n",
       "dtype: int64"
      ]
     },
     "execution_count": 43,
     "metadata": {},
     "output_type": "execute_result"
    }
   ],
   "source": [
    "g2.isnull().sum()"
   ]
  },
  {
   "cell_type": "code",
   "execution_count": 22,
   "id": "e376731c",
   "metadata": {},
   "outputs": [],
   "source": [
    "g2.set_index('Facies',inplace=True)"
   ]
  },
  {
   "cell_type": "code",
   "execution_count": 23,
   "id": "c07d271a",
   "metadata": {},
   "outputs": [],
   "source": [
    "#g2['Facies'] = pd.to_numeric(g2['Facies'],errors = 'coerce')"
   ]
  },
  {
   "cell_type": "code",
   "execution_count": 24,
   "id": "fcec3bb3",
   "metadata": {},
   "outputs": [
    {
     "data": {
      "text/plain": [
       "count    146.000000\n",
       "mean       0.222834\n",
       "std        0.085760\n",
       "min        0.023452\n",
       "25%        0.160237\n",
       "50%        0.220427\n",
       "75%        0.287623\n",
       "max        0.427979\n",
       "Name: Porosity, dtype: float64"
      ]
     },
     "execution_count": 24,
     "metadata": {},
     "output_type": "execute_result"
    }
   ],
   "source": [
    "g2[\"Porosity\"].describe()"
   ]
  },
  {
   "cell_type": "code",
   "execution_count": 25,
   "id": "374c0618",
   "metadata": {},
   "outputs": [
    {
     "data": {
      "text/html": [
       "<div>\n",
       "<style scoped>\n",
       "    .dataframe tbody tr th:only-of-type {\n",
       "        vertical-align: middle;\n",
       "    }\n",
       "\n",
       "    .dataframe tbody tr th {\n",
       "        vertical-align: top;\n",
       "    }\n",
       "\n",
       "    .dataframe thead th {\n",
       "        text-align: right;\n",
       "    }\n",
       "</style>\n",
       "<table border=\"1\" class=\"dataframe\">\n",
       "  <thead>\n",
       "    <tr style=\"text-align: right;\">\n",
       "      <th></th>\n",
       "      <th>Depth(ft)</th>\n",
       "      <th>Porosity(%)</th>\n",
       "      <th>Permeability(mD)</th>\n",
       "      <th>Depth(m)</th>\n",
       "      <th>Porosity</th>\n",
       "    </tr>\n",
       "    <tr>\n",
       "      <th>Facies</th>\n",
       "      <th></th>\n",
       "      <th></th>\n",
       "      <th></th>\n",
       "      <th></th>\n",
       "      <th></th>\n",
       "    </tr>\n",
       "  </thead>\n",
       "  <tbody>\n",
       "    <tr>\n",
       "      <th>crevasse splay</th>\n",
       "      <td>2341.0</td>\n",
       "      <td>17.758524</td>\n",
       "      <td>71.140412</td>\n",
       "      <td>713.5368</td>\n",
       "      <td>0.177585</td>\n",
       "    </tr>\n",
       "    <tr>\n",
       "      <th>crevasse splay</th>\n",
       "      <td>3864.5</td>\n",
       "      <td>17.205288</td>\n",
       "      <td>82.554209</td>\n",
       "      <td>1177.8996</td>\n",
       "      <td>0.172053</td>\n",
       "    </tr>\n",
       "    <tr>\n",
       "      <th>overbanks</th>\n",
       "      <td>903.5</td>\n",
       "      <td>13.324048</td>\n",
       "      <td>17.628365</td>\n",
       "      <td>275.3868</td>\n",
       "      <td>0.133240</td>\n",
       "    </tr>\n",
       "    <tr>\n",
       "      <th>crevasse splay</th>\n",
       "      <td>2040.5</td>\n",
       "      <td>35.584303</td>\n",
       "      <td>133.179677</td>\n",
       "      <td>621.9444</td>\n",
       "      <td>0.355843</td>\n",
       "    </tr>\n",
       "    <tr>\n",
       "      <th>channel</th>\n",
       "      <td>4069.0</td>\n",
       "      <td>22.947981</td>\n",
       "      <td>162.532854</td>\n",
       "      <td>1240.2312</td>\n",
       "      <td>0.229480</td>\n",
       "    </tr>\n",
       "  </tbody>\n",
       "</table>\n",
       "</div>"
      ],
      "text/plain": [
       "                Depth(ft)  Porosity(%)  Permeability(mD)   Depth(m)  Porosity\n",
       "Facies                                                                       \n",
       "crevasse splay     2341.0    17.758524         71.140412   713.5368  0.177585\n",
       "crevasse splay     3864.5    17.205288         82.554209  1177.8996  0.172053\n",
       "overbanks           903.5    13.324048         17.628365   275.3868  0.133240\n",
       "crevasse splay     2040.5    35.584303        133.179677   621.9444  0.355843\n",
       "channel            4069.0    22.947981        162.532854  1240.2312  0.229480"
      ]
     },
     "execution_count": 25,
     "metadata": {},
     "output_type": "execute_result"
    }
   ],
   "source": [
    "g2.head()"
   ]
  },
  {
   "cell_type": "code",
   "execution_count": 26,
   "id": "27b0aed0",
   "metadata": {},
   "outputs": [
    {
     "name": "stdout",
     "output_type": "stream",
     "text": [
      "Mean porosity for crevasse splay=  0.1875885107832\n"
     ]
    }
   ],
   "source": [
    "#Mean porosity for each Facies\n",
    "#Mean porosity for crevasse splay\n",
    "g2.loc['crevasse splay',[\"Porosity\"]]\n",
    "porosity1=g2.loc['crevasse splay',[\"Porosity\"]]\n",
    "porosity1=porosity1.mean()\n",
    "print(\"Mean porosity for crevasse splay= \", porosity1.Porosity)"
   ]
  },
  {
   "cell_type": "code",
   "execution_count": 27,
   "id": "68abcf83",
   "metadata": {},
   "outputs": [
    {
     "name": "stdout",
     "output_type": "stream",
     "text": [
      "Mean porosity for overbanks=  0.14388245183533335\n"
     ]
    }
   ],
   "source": [
    "#Mean porosity for overbanks\n",
    "g2.loc['overbanks',[\"Porosity\"]]\n",
    "porosity2=g2.loc['overbanks',[\"Porosity\"]]\n",
    "porosity2=porosity2.mean()\n",
    "print(\"Mean porosity for overbanks= \", porosity2.Porosity)"
   ]
  },
  {
   "cell_type": "code",
   "execution_count": 28,
   "id": "e09f6568",
   "metadata": {},
   "outputs": [
    {
     "name": "stdout",
     "output_type": "stream",
     "text": [
      "Mean porosity for channel=  0.28542299478333333\n"
     ]
    }
   ],
   "source": [
    "#Mean porosity for channel\n",
    "g2.loc['channel',[\"Porosity\"]]\n",
    "porosity3=g2.loc['channel',[\"Porosity\"]]\n",
    "porosity3=porosity3.mean()\n",
    "print(\"Mean porosity for channel= \", porosity3.Porosity)"
   ]
  },
  {
   "cell_type": "code",
   "execution_count": 29,
   "id": "f64410e7",
   "metadata": {},
   "outputs": [
    {
     "data": {
      "text/html": [
       "<div>\n",
       "<style scoped>\n",
       "    .dataframe tbody tr th:only-of-type {\n",
       "        vertical-align: middle;\n",
       "    }\n",
       "\n",
       "    .dataframe tbody tr th {\n",
       "        vertical-align: top;\n",
       "    }\n",
       "\n",
       "    .dataframe thead th {\n",
       "        text-align: right;\n",
       "    }\n",
       "</style>\n",
       "<table border=\"1\" class=\"dataframe\">\n",
       "  <thead>\n",
       "    <tr style=\"text-align: right;\">\n",
       "      <th></th>\n",
       "      <th>Depth(ft)</th>\n",
       "      <th>Porosity(%)</th>\n",
       "      <th>Permeability(mD)</th>\n",
       "      <th>Depth(m)</th>\n",
       "      <th>Porosity</th>\n",
       "      <th>Permeability</th>\n",
       "    </tr>\n",
       "    <tr>\n",
       "      <th>Facies</th>\n",
       "      <th></th>\n",
       "      <th></th>\n",
       "      <th></th>\n",
       "      <th></th>\n",
       "      <th></th>\n",
       "      <th></th>\n",
       "    </tr>\n",
       "  </thead>\n",
       "  <tbody>\n",
       "    <tr>\n",
       "      <th>crevasse splay</th>\n",
       "      <td>2341.0</td>\n",
       "      <td>17.758524</td>\n",
       "      <td>71.140412</td>\n",
       "      <td>713.5368</td>\n",
       "      <td>0.177585</td>\n",
       "      <td>71.140412</td>\n",
       "    </tr>\n",
       "    <tr>\n",
       "      <th>crevasse splay</th>\n",
       "      <td>3864.5</td>\n",
       "      <td>17.205288</td>\n",
       "      <td>82.554209</td>\n",
       "      <td>1177.8996</td>\n",
       "      <td>0.172053</td>\n",
       "      <td>82.554209</td>\n",
       "    </tr>\n",
       "    <tr>\n",
       "      <th>overbanks</th>\n",
       "      <td>903.5</td>\n",
       "      <td>13.324048</td>\n",
       "      <td>17.628365</td>\n",
       "      <td>275.3868</td>\n",
       "      <td>0.133240</td>\n",
       "      <td>17.628365</td>\n",
       "    </tr>\n",
       "    <tr>\n",
       "      <th>crevasse splay</th>\n",
       "      <td>2040.5</td>\n",
       "      <td>35.584303</td>\n",
       "      <td>133.179677</td>\n",
       "      <td>621.9444</td>\n",
       "      <td>0.355843</td>\n",
       "      <td>133.179677</td>\n",
       "    </tr>\n",
       "    <tr>\n",
       "      <th>channel</th>\n",
       "      <td>4069.0</td>\n",
       "      <td>22.947981</td>\n",
       "      <td>162.532854</td>\n",
       "      <td>1240.2312</td>\n",
       "      <td>0.229480</td>\n",
       "      <td>162.532854</td>\n",
       "    </tr>\n",
       "  </tbody>\n",
       "</table>\n",
       "</div>"
      ],
      "text/plain": [
       "                Depth(ft)  Porosity(%)  Permeability(mD)   Depth(m)  Porosity  \\\n",
       "Facies                                                                          \n",
       "crevasse splay     2341.0    17.758524         71.140412   713.5368  0.177585   \n",
       "crevasse splay     3864.5    17.205288         82.554209  1177.8996  0.172053   \n",
       "overbanks           903.5    13.324048         17.628365   275.3868  0.133240   \n",
       "crevasse splay     2040.5    35.584303        133.179677   621.9444  0.355843   \n",
       "channel            4069.0    22.947981        162.532854  1240.2312  0.229480   \n",
       "\n",
       "                Permeability  \n",
       "Facies                        \n",
       "crevasse splay     71.140412  \n",
       "crevasse splay     82.554209  \n",
       "overbanks          17.628365  \n",
       "crevasse splay    133.179677  \n",
       "channel           162.532854  "
      ]
     },
     "execution_count": 29,
     "metadata": {},
     "output_type": "execute_result"
    }
   ],
   "source": [
    "#add a coloumn just to use it in the calculations \"unit less\"\n",
    "g2['Permeability']= g2['Permeability(mD)']*1\n",
    "g2.head()"
   ]
  },
  {
   "cell_type": "code",
   "execution_count": 30,
   "id": "a603d962",
   "metadata": {},
   "outputs": [
    {
     "name": "stdout",
     "output_type": "stream",
     "text": [
      "Mean permeability for crevasse splay=  85.1657235014\n"
     ]
    }
   ],
   "source": [
    "#Mean permeability for each Facies\n",
    "#Mean permeability for crevasse splay\n",
    "g2.loc['crevasse splay',[\"Permeability\"]]\n",
    "Perm1=g2.loc['crevasse splay',[\"Permeability\"]]\n",
    "Perm1=Perm1.mean()\n",
    "a=Perm1.Permeability\n",
    "print(\"Mean permeability for crevasse splay= \", a)"
   ]
  },
  {
   "cell_type": "code",
   "execution_count": 31,
   "id": "d80907ba",
   "metadata": {},
   "outputs": [
    {
     "name": "stdout",
     "output_type": "stream",
     "text": [
      "Mean permeability for overbanks=  29.30642846066667\n"
     ]
    }
   ],
   "source": [
    "#Mean permeability for crevasse splay\n",
    "g2.loc['overbanks',[\"Permeability\"]]\n",
    "Perm2=g2.loc['overbanks',[\"Permeability\"]]\n",
    "Perm2=Perm2.mean()\n",
    "b=Perm2.Permeability\n",
    "print(\"Mean permeability for overbanks= \", b)"
   ]
  },
  {
   "cell_type": "code",
   "execution_count": 32,
   "id": "911c07ba",
   "metadata": {},
   "outputs": [
    {
     "name": "stdout",
     "output_type": "stream",
     "text": [
      "Mean permeability for channel=  227.8281313505\n"
     ]
    }
   ],
   "source": [
    "#Mean permeability for channel\n",
    "g2.loc['channel',[\"Permeability\"]]\n",
    "Perm3=g2.loc['channel',[\"Permeability\"]]\n",
    "Perm3=Perm3.mean()\n",
    "c=Perm3.Permeability\n",
    "print(\"Mean permeability for channel= \", c)"
   ]
  },
  {
   "cell_type": "code",
   "execution_count": 33,
   "id": "c2f4483c",
   "metadata": {},
   "outputs": [
    {
     "name": "stdout",
     "output_type": "stream",
     "text": [
      "Requirement already satisfied: seaborn in /opt/anaconda3/lib/python3.9/site-packages (0.12.0)\n",
      "Requirement already satisfied: matplotlib>=3.1 in /opt/anaconda3/lib/python3.9/site-packages (from seaborn) (3.5.3)\n",
      "Requirement already satisfied: numpy>=1.17 in /opt/anaconda3/lib/python3.9/site-packages (from seaborn) (1.23.2)\n",
      "Requirement already satisfied: pandas>=0.25 in /opt/anaconda3/lib/python3.9/site-packages (from seaborn) (1.4.3)\n",
      "Requirement already satisfied: pyparsing>=2.2.1 in /opt/anaconda3/lib/python3.9/site-packages (from matplotlib>=3.1->seaborn) (3.0.4)\n",
      "Requirement already satisfied: fonttools>=4.22.0 in /opt/anaconda3/lib/python3.9/site-packages (from matplotlib>=3.1->seaborn) (4.36.0)\n",
      "Requirement already satisfied: cycler>=0.10 in /opt/anaconda3/lib/python3.9/site-packages (from matplotlib>=3.1->seaborn) (0.11.0)\n",
      "Requirement already satisfied: kiwisolver>=1.0.1 in /opt/anaconda3/lib/python3.9/site-packages (from matplotlib>=3.1->seaborn) (1.4.4)\n",
      "Requirement already satisfied: packaging>=20.0 in /opt/anaconda3/lib/python3.9/site-packages (from matplotlib>=3.1->seaborn) (21.3)\n",
      "Requirement already satisfied: python-dateutil>=2.7 in /opt/anaconda3/lib/python3.9/site-packages (from matplotlib>=3.1->seaborn) (2.8.2)\n",
      "Requirement already satisfied: pillow>=6.2.0 in /opt/anaconda3/lib/python3.9/site-packages (from matplotlib>=3.1->seaborn) (9.2.0)\n",
      "Requirement already satisfied: pytz>=2020.1 in /opt/anaconda3/lib/python3.9/site-packages (from pandas>=0.25->seaborn) (2022.1)\n",
      "Requirement already satisfied: six>=1.5 in /opt/anaconda3/lib/python3.9/site-packages (from python-dateutil>=2.7->matplotlib>=3.1->seaborn) (1.16.0)\n",
      "Note: you may need to restart the kernel to use updated packages.\n"
     ]
    }
   ],
   "source": [
    "pip install seaborn"
   ]
  },
  {
   "cell_type": "code",
   "execution_count": 34,
   "id": "e0281152",
   "metadata": {},
   "outputs": [
    {
     "data": {
      "text/plain": [
       "Text(0.5, 1.0, 'Porosity vs. Frequency')"
      ]
     },
     "execution_count": 34,
     "metadata": {},
     "output_type": "execute_result"
    },
    {
     "data": {
      "image/png": "[encoded data removed]",
      "text/plain": [
       "<Figure size 432x288 with 1 Axes>"
      ]
     },
     "metadata": {},
     "output_type": "display_data"
    }
   ],
   "source": [
    "#HISTOGRAM \n",
    "import matplotlib.pyplot as plt \n",
    "phi=g2['Porosity(%)']\n",
    "\n",
    "import seaborn as sb\n",
    "sb.set_style('whitegrid')\n",
    "\n",
    "plt.hist(phi, color='lightblue')\n",
    "plt.ylabel('Frequency') \n",
    "plt.xlabel('Porosity (%)') \n",
    "plt.title('Porosity vs. Frequency')\n",
    "\n"
   ]
  },
  {
   "cell_type": "code",
   "execution_count": 35,
   "id": "5f6b53af",
   "metadata": {},
   "outputs": [
    {
     "data": {
      "text/plain": [
       "Text(20, 35, 'Min = 2.34521916')"
      ]
     },
     "execution_count": 35,
     "metadata": {},
     "output_type": "execute_result"
    },
    {
     "data": {
      "image/png": "[encoded data removed]",
      "text/plain": [
       "<Figure size 432x288 with 1 Axes>"
      ]
     },
     "metadata": {},
     "output_type": "display_data"
    }
   ],
   "source": [
    "import matplotlib.pyplot as plt \n",
    "phi=g2['Porosity(%)']\n",
    "import scipy.stats as stats\n",
    "import seaborn as sb\n",
    "sb.set_style('whitegrid')\n",
    "\n",
    "plt.hist(phi, color='lightblue')\n",
    "plt.ylabel('Frequency') \n",
    "plt.xlabel('Porosity (%)') \n",
    "plt.title('Porosity vs. Frequency')\n",
    "\n",
    "#y=stats.gmean(phi, axis=0, dtype=None)#arathmatic mean\n",
    "plt.text(20, 50, ' Mean = ' + str(g2['Porosity(%)'].mean()))\n",
    "plt.text(20, 45, 'Median = ' + str(g2['Porosity(%)'].median()))\n",
    "plt.text(20, 40, 'Max = ' + str(g2['Porosity(%)'].max()))\n",
    "plt.text(20, 35, 'Min = ' + str(g2['Porosity(%)'].min())) "
   ]
  },
  {
   "cell_type": "code",
   "execution_count": 36,
   "id": "96e2ec3d",
   "metadata": {},
   "outputs": [
    {
     "data": {
      "text/plain": [
       "Text(0.5, 1.0, 'Permeability vs. Frequency')"
      ]
     },
     "execution_count": 36,
     "metadata": {},
     "output_type": "execute_result"
    },
    {
     "data": {
      "image/png": "[encoded data removed]",
      "text/plain": [
       "<Figure size 432x288 with 1 Axes>"
      ]
     },
     "metadata": {},
     "output_type": "display_data"
    }
   ],
   "source": [
    "import matplotlib.pyplot as plt \n",
    "k=g2['Permeability(mD)']\n",
    "\n",
    "import seaborn as sb\n",
    "sb.set_style('whitegrid')\n",
    "\n",
    "plt.hist(k, color='lightgreen')\n",
    "plt.ylabel('Frequency') \n",
    "plt.xlabel('Permeability(mD)') \n",
    "plt.title('Permeability vs. Frequency')\n",
    "\n",
    "\n"
   ]
  },
  {
   "cell_type": "code",
   "execution_count": 37,
   "id": "12ace672",
   "metadata": {},
   "outputs": [
    {
     "data": {
      "text/plain": [
       "Text(20, 35, 'Min = 2.786742383')"
      ]
     },
     "execution_count": 37,
     "metadata": {},
     "output_type": "execute_result"
    },
    {
     "data": {
      "image/png": "[encoded data removed]",
      "text/plain": [
       "<Figure size 432x288 with 1 Axes>"
      ]
     },
     "metadata": {},
     "output_type": "display_data"
    }
   ],
   "source": [
    "import matplotlib.pyplot as plt \n",
    "k=g2['Permeability(mD)']\n",
    "import scipy.stats as stats\n",
    "import seaborn as sb\n",
    "sb.set_style('whitegrid')\n",
    "\n",
    "plt.hist(k, color='lightgreen')\n",
    "plt.ylabel('Frequency') \n",
    "plt.xlabel('Permeability(mD)') \n",
    "plt.title('Permeability vs. Frequency')\n",
    "\n",
    "#geo mean - NEWWWWWW **log normal \n",
    "x=stats.gmean(k, axis=0, dtype=None)\n",
    "plt.text(20, 50, 'Geometric Mean = ' + str(x))\n",
    "plt.text(20, 45, 'Median = ' + str(g2['Permeability(mD)'].median()))\n",
    "plt.text(20, 40, 'Max = ' + str(g2['Permeability(mD)'].max()))\n",
    "plt.text(20, 35, 'Min = ' + str(g2['Permeability(mD)'].min())) "
   ]
  },
  {
   "cell_type": "code",
   "execution_count": 38,
   "id": "3a818b9f",
   "metadata": {},
   "outputs": [
    {
     "data": {
      "image/png": "[encoded data removed]",
      "text/plain": [
       "<Figure size 432x288 with 1 Axes>"
      ]
     },
     "metadata": {},
     "output_type": "display_data"
    }
   ],
   "source": [
    "import pylab \n",
    "import scipy.stats as stats\n",
    "stats.probplot(phi, dist=\"norm\", plot=pylab)\n",
    "plt.ylabel('porosity (%)') \n",
    "plt.xlabel('idealized') \n",
    "plt.title('porosity vs. idealized')\n",
    "pylab.show()\n",
    "\n",
    "# Perfecto "
   ]
  },
  {
   "cell_type": "code",
   "execution_count": 39,
   "id": "f4ad387f",
   "metadata": {},
   "outputs": [
    {
     "data": {
      "image/png": "[encoded data removed]",
      "text/plain": [
       "<Figure size 432x288 with 1 Axes>"
      ]
     },
     "metadata": {},
     "output_type": "display_data"
    }
   ],
   "source": [
    "import pylab \n",
    "import scipy.stats as stats\n",
    "stats.probplot(k, dist=\"norm\", plot=pylab)\n",
    "plt.ylabel('Permeability') \n",
    "plt.xlabel('idealized') \n",
    "plt.title('Permeability vs. idealized')\n",
    "pylab.show()\n",
    "\n",
    "#Poor"
   ]
  },
  {
   "cell_type": "code",
   "execution_count": 40,
   "id": "e9ed3fd2",
   "metadata": {},
   "outputs": [
    {
     "name": "stdout",
     "output_type": "stream",
     "text": [
      "Statistic: 5.054\n",
      "15.000: 0.561, data does not look normal (reject H0)\n",
      "10.000: 0.639, data does not look normal (reject H0)\n",
      "5.000: 0.767, data does not look normal (reject H0)\n",
      "2.500: 0.895, data does not look normal (reject H0)\n",
      "1.000: 1.064, data does not look normal (reject H0)\n"
     ]
    }
   ],
   "source": [
    "#for permeability \n",
    "from scipy.stats import anderson\n",
    "\n",
    "\n",
    "r = anderson(g2['Permeability(mD)'])\n",
    "print('Statistic: %.3f' % r.statistic)\n",
    "p = 0\n",
    "\n",
    "\n",
    "\n",
    "for i in range(len(r.critical_values)):\n",
    "    slevel, cvalues = r.significance_level[i], r.critical_values[i]\n",
    "    if r.statistic < r.critical_values[i]:\n",
    "        print('%.3f: %.3f, data looks normal (fail to reject H0)' % (slevel, cvalues))\n",
    "    else:\n",
    "        print('%.3f: %.3f, data does not look normal (reject H0)' % (slevel, cvalues)) \n",
    "\n",
    "        "
   ]
  },
  {
   "cell_type": "code",
   "execution_count": 41,
   "id": "d1f7b8a8",
   "metadata": {},
   "outputs": [
    {
     "name": "stdout",
     "output_type": "stream",
     "text": [
      "Statistic: 0.426\n",
      "15.000: 0.561, data looks normal (fail to reject H0)\n",
      "10.000: 0.639, data looks normal (fail to reject H0)\n",
      "5.000: 0.767, data looks normal (fail to reject H0)\n",
      "2.500: 0.895, data looks normal (fail to reject H0)\n",
      "1.000: 1.064, data looks normal (fail to reject H0)\n"
     ]
    }
   ],
   "source": [
    "#for POROSITY \n",
    "from scipy.stats import anderson\n",
    "\n",
    "\n",
    "r = anderson(g2['Porosity(%)'])\n",
    "print('Statistic: %.3f' % r.statistic)\n",
    "p = 0\n",
    "\n",
    "\n",
    "\n",
    "for i in range(len(r.critical_values)):\n",
    "    slevel, cvalues = r.significance_level[i], r.critical_values[i]\n",
    "    if r.statistic < r.critical_values[i]:\n",
    "        print('%.3f: %.3f, data looks normal (fail to reject H0)' % (slevel, cvalues))\n",
    "    else:\n",
    "        print('%.3f: %.3f, data does not look normal (reject H0)' % (slevel, cvalues)) \n",
    "\n"
   ]
  },
  {
   "cell_type": "code",
   "execution_count": 42,
   "id": "60dd3a65",
   "metadata": {},
   "outputs": [
    {
     "name": "stdout",
     "output_type": "stream",
     "text": [
      "Requirement already satisfied: seaborn in /opt/anaconda3/lib/python3.9/site-packages (0.12.0)\n",
      "Requirement already satisfied: pandas>=0.25 in /opt/anaconda3/lib/python3.9/site-packages (from seaborn) (1.4.3)\n",
      "Requirement already satisfied: numpy>=1.17 in /opt/anaconda3/lib/python3.9/site-packages (from seaborn) (1.23.2)\n",
      "Requirement already satisfied: matplotlib>=3.1 in /opt/anaconda3/lib/python3.9/site-packages (from seaborn) (3.5.3)\n",
      "Requirement already satisfied: python-dateutil>=2.7 in /opt/anaconda3/lib/python3.9/site-packages (from matplotlib>=3.1->seaborn) (2.8.2)\n",
      "Requirement already satisfied: pillow>=6.2.0 in /opt/anaconda3/lib/python3.9/site-packages (from matplotlib>=3.1->seaborn) (9.2.0)\n",
      "Requirement already satisfied: packaging>=20.0 in /opt/anaconda3/lib/python3.9/site-packages (from matplotlib>=3.1->seaborn) (21.3)\n",
      "Requirement already satisfied: fonttools>=4.22.0 in /opt/anaconda3/lib/python3.9/site-packages (from matplotlib>=3.1->seaborn) (4.36.0)\n",
      "Requirement already satisfied: kiwisolver>=1.0.1 in /opt/anaconda3/lib/python3.9/site-packages (from matplotlib>=3.1->seaborn) (1.4.4)\n",
      "Requirement already satisfied: cycler>=0.10 in /opt/anaconda3/lib/python3.9/site-packages (from matplotlib>=3.1->seaborn) (0.11.0)\n",
      "Requirement already satisfied: pyparsing>=2.2.1 in /opt/anaconda3/lib/python3.9/site-packages (from matplotlib>=3.1->seaborn) (3.0.4)\n",
      "Requirement already satisfied: pytz>=2020.1 in /opt/anaconda3/lib/python3.9/site-packages (from pandas>=0.25->seaborn) (2022.1)\n",
      "Requirement already satisfied: six>=1.5 in /opt/anaconda3/lib/python3.9/site-packages (from python-dateutil>=2.7->matplotlib>=3.1->seaborn) (1.16.0)\n",
      "Note: you may need to restart the kernel to use updated packages.\n"
     ]
    }
   ],
   "source": [
    "pip install seaborn"
   ]
  },
  {
   "cell_type": "code",
   "execution_count": null,
   "id": "4151b257",
   "metadata": {},
   "outputs": [],
   "source": []
  }
 ],
 "metadata": {
  "kernelspec": {
   "display_name": "Python 3 (ipykernel)",
   "language": "python",
   "name": "python3"
  },
  "language_info": {
   "codemirror_mode": {
    "name": "ipython",
    "version": 3
   },
   "file_extension": ".py",
   "mimetype": "text/x-python",
   "name": "python",
   "nbconvert_exporter": "python",
   "pygments_lexer": "ipython3",
   "version": "3.9.12"
  }
 },
 "nbformat": 4,
 "nbformat_minor": 5
}
